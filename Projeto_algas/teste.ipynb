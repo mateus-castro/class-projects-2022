{
  "cells": [
    {
      "cell_type": "code",
      "execution_count": 14,
      "metadata": {
        "colab": {
          "base_uri": "https://localhost:8080/",
          "height": 295
        },
        "id": "7G_Fu2ffsoqu",
        "outputId": "1b6020f6-8d10-430b-8888-39f91a3ce7f0"
      },
      "outputs": [
        {
          "data": {
            "image/png": "[encoded data removed]",
            "text/plain": [
              "<Figure size 432x288 with 1 Axes>"
            ]
          },
          "metadata": {
            "needs_background": "light"
          },
          "output_type": "display_data"
        }
      ],
      "source": [
        "import matplotlib.pyplot as plt\n",
        "import numpy as np\n",
        "\n",
        "def sum_of_init(n):\n",
        "    state = []\n",
        "    acumul_acelerate = 0\n",
        "    for i in range(1,n+1):\n",
        "        acumul_acelerate += i\n",
        "        state.append({'i': i, 'acumulador': acumul_acelerate})\n",
        "    return state\n",
        "\n",
        "plt.title('Acumulador x Iterações')\n",
        "plt.xlabel('Acumulador')\n",
        "plt.ylabel('Iteração')\n",
        "\n",
        "for valor in [10, 20, 30, 75, 1000000]:\n",
        "    iteracoes = sum_of_init(valor)\n",
        "    plt.plot(\n",
        "        np.array([item['i'] for item in iteracoes]),\n",
        "        np.array([item['acumulador'] for item in iteracoes]),\n",
        "        label=str(valor)\n",
        "    )\n",
        "#plt.yscale('log')\n",
        "plt.legend()\n",
        "plt.show() \n"
      ]
    },
    {
      "cell_type": "code",
      "execution_count": 7,
      "metadata": {},
      "outputs": [
        {
          "ename": "ValueError",
          "evalue": "non-integer arg 1 for randrange()",
          "output_type": "error",
          "traceback": [
            "\u001b[1;31m---------------------------------------------------------------------------\u001b[0m",
            "\u001b[1;31mTypeError\u001b[0m                                 Traceback (most recent call last)",
            "File \u001b[1;32m~\\AppData\\Local\\Programs\\Python\\Python310\\lib\\random.py:303\u001b[0m, in \u001b[0;36mRandom.randrange\u001b[1;34m(self, start, stop, step)\u001b[0m\n\u001b[0;32m    <a href='file:///~/AppData/Local/Programs/Python/Python310/lib/random.py?line=301'>302</a>\u001b[0m \u001b[39mtry\u001b[39;00m:\n\u001b[1;32m--> <a href='file:///~/AppData/Local/Programs/Python/Python310/lib/random.py?line=302'>303</a>\u001b[0m     istart \u001b[39m=\u001b[39m _index(start)\n\u001b[0;32m    <a href='file:///~/AppData/Local/Programs/Python/Python310/lib/random.py?line=303'>304</a>\u001b[0m \u001b[39mexcept\u001b[39;00m \u001b[39mTypeError\u001b[39;00m:\n",
            "\u001b[1;31mTypeError\u001b[0m: 'float' object cannot be interpreted as an integer",
            "\nDuring handling of the above exception, another exception occurred:\n",
            "\u001b[1;31mValueError\u001b[0m                                Traceback (most recent call last)",
            "\u001b[1;32mc:\\Users\\Aluno\\4CCO-2022-1-Grupo-03\\Analise de Algoritmos\\Projeto_algas\\teste.ipynb Cell 2'\u001b[0m in \u001b[0;36m<module>\u001b[1;34m\u001b[0m\n\u001b[0;32m      <a href='vscode-notebook-cell:/c%3A/Users/Aluno/4CCO-2022-1-Grupo-03/Analise%20de%20Algoritmos/Projeto_algas/teste.ipynb#ch0000003?line=3'>4</a>\u001b[0m \u001b[39m# generate some integers\u001b[39;00m\n\u001b[0;32m      <a href='vscode-notebook-cell:/c%3A/Users/Aluno/4CCO-2022-1-Grupo-03/Analise%20de%20Algoritmos/Projeto_algas/teste.ipynb#ch0000003?line=4'>5</a>\u001b[0m stop \u001b[39m=\u001b[39m randint(\u001b[39m0\u001b[39m, \u001b[39m10000\u001b[39m)\n\u001b[1;32m----> <a href='vscode-notebook-cell:/c%3A/Users/Aluno/4CCO-2022-1-Grupo-03/Analise%20de%20Algoritmos/Projeto_algas/teste.ipynb#ch0000003?line=5'>6</a>\u001b[0m step \u001b[39m=\u001b[39m stop\u001b[39m/\u001b[39mrandint((stop\u001b[39m*\u001b[39;49m\u001b[39m0.05\u001b[39;49m), (stop\u001b[39m*\u001b[39;49m\u001b[39m0.25\u001b[39;49m))\n\u001b[0;32m      <a href='vscode-notebook-cell:/c%3A/Users/Aluno/4CCO-2022-1-Grupo-03/Analise%20de%20Algoritmos/Projeto_algas/teste.ipynb#ch0000003?line=7'>8</a>\u001b[0m \u001b[39mprint\u001b[39m(stop)\n\u001b[0;32m      <a href='vscode-notebook-cell:/c%3A/Users/Aluno/4CCO-2022-1-Grupo-03/Analise%20de%20Algoritmos/Projeto_algas/teste.ipynb#ch0000003?line=8'>9</a>\u001b[0m \u001b[39mprint\u001b[39m(step)\n",
            "File \u001b[1;32m~\\AppData\\Local\\Programs\\Python\\Python310\\lib\\random.py:370\u001b[0m, in \u001b[0;36mRandom.randint\u001b[1;34m(self, a, b)\u001b[0m\n\u001b[0;32m    <a href='file:///~/AppData/Local/Programs/Python/Python310/lib/random.py?line=365'>366</a>\u001b[0m \u001b[39mdef\u001b[39;00m \u001b[39mrandint\u001b[39m(\u001b[39mself\u001b[39m, a, b):\n\u001b[0;32m    <a href='file:///~/AppData/Local/Programs/Python/Python310/lib/random.py?line=366'>367</a>\u001b[0m     \u001b[39m\"\"\"Return random integer in range [a, b], including both end points.\u001b[39;00m\n\u001b[0;32m    <a href='file:///~/AppData/Local/Programs/Python/Python310/lib/random.py?line=367'>368</a>\u001b[0m \u001b[39m    \"\"\"\u001b[39;00m\n\u001b[1;32m--> <a href='file:///~/AppData/Local/Programs/Python/Python310/lib/random.py?line=369'>370</a>\u001b[0m     \u001b[39mreturn\u001b[39;00m \u001b[39mself\u001b[39;49m\u001b[39m.\u001b[39;49mrandrange(a, b\u001b[39m+\u001b[39;49m\u001b[39m1\u001b[39;49m)\n",
            "File \u001b[1;32m~\\AppData\\Local\\Programs\\Python\\Python310\\lib\\random.py:309\u001b[0m, in \u001b[0;36mRandom.randrange\u001b[1;34m(self, start, stop, step)\u001b[0m\n\u001b[0;32m    <a href='file:///~/AppData/Local/Programs/Python/Python310/lib/random.py?line=305'>306</a>\u001b[0m     \u001b[39mif\u001b[39;00m istart \u001b[39m!=\u001b[39m start:\n\u001b[0;32m    <a href='file:///~/AppData/Local/Programs/Python/Python310/lib/random.py?line=306'>307</a>\u001b[0m         _warn(\u001b[39m'\u001b[39m\u001b[39mrandrange() will raise TypeError in the future\u001b[39m\u001b[39m'\u001b[39m,\n\u001b[0;32m    <a href='file:///~/AppData/Local/Programs/Python/Python310/lib/random.py?line=307'>308</a>\u001b[0m               \u001b[39mDeprecationWarning\u001b[39;00m, \u001b[39m2\u001b[39m)\n\u001b[1;32m--> <a href='file:///~/AppData/Local/Programs/Python/Python310/lib/random.py?line=308'>309</a>\u001b[0m         \u001b[39mraise\u001b[39;00m \u001b[39mValueError\u001b[39;00m(\u001b[39m\"\u001b[39m\u001b[39mnon-integer arg 1 for randrange()\u001b[39m\u001b[39m\"\u001b[39m)\n\u001b[0;32m    <a href='file:///~/AppData/Local/Programs/Python/Python310/lib/random.py?line=309'>310</a>\u001b[0m     _warn(\u001b[39m'\u001b[39m\u001b[39mnon-integer arguments to randrange() have been deprecated \u001b[39m\u001b[39m'\u001b[39m\n\u001b[0;32m    <a href='file:///~/AppData/Local/Programs/Python/Python310/lib/random.py?line=310'>311</a>\u001b[0m           \u001b[39m'\u001b[39m\u001b[39msince Python 3.10 and will be removed in a subsequent \u001b[39m\u001b[39m'\u001b[39m\n\u001b[0;32m    <a href='file:///~/AppData/Local/Programs/Python/Python310/lib/random.py?line=311'>312</a>\u001b[0m           \u001b[39m'\u001b[39m\u001b[39mversion\u001b[39m\u001b[39m'\u001b[39m,\n\u001b[0;32m    <a href='file:///~/AppData/Local/Programs/Python/Python310/lib/random.py?line=312'>313</a>\u001b[0m           \u001b[39mDeprecationWarning\u001b[39;00m, \u001b[39m2\u001b[39m)\n\u001b[0;32m    <a href='file:///~/AppData/Local/Programs/Python/Python310/lib/random.py?line=313'>314</a>\u001b[0m \u001b[39mif\u001b[39;00m stop \u001b[39mis\u001b[39;00m \u001b[39mNone\u001b[39;00m:\n\u001b[0;32m    <a href='file:///~/AppData/Local/Programs/Python/Python310/lib/random.py?line=314'>315</a>\u001b[0m     \u001b[39m# We don't check for \"step != 1\" because it hasn't been\u001b[39;00m\n\u001b[0;32m    <a href='file:///~/AppData/Local/Programs/Python/Python310/lib/random.py?line=315'>316</a>\u001b[0m     \u001b[39m# type checked and converted to an integer yet.\u001b[39;00m\n",
            "\u001b[1;31mValueError\u001b[0m: non-integer arg 1 for randrange()"
          ]
        }
      ],
      "source": [
        "\n",
        "# generate random integer values\n",
        "from random import seed\n",
        "from random import randint\n",
        "# generate some integers\n",
        "stop = randint(0, 10000)\n",
        "step = stop/randint((stop*0.05), (stop*0.25))\n",
        "\n",
        "print(stop)\n",
        "print(step)"
      ]
    },
    {
      "cell_type": "code",
      "execution_count": 23,
      "metadata": {
        "colab": {
          "base_uri": "https://localhost:8080/",
          "height": 313
        },
        "id": "DZqn6mBYs0Z3",
        "outputId": "89a9359c-f55d-46e5-d665-79c0652d5ff3"
      },
      "outputs": [
        {
          "data": {
            "text/plain": [
              "[<matplotlib.lines.Line2D at 0x7f9ed3321bd0>]"
            ]
          },
          "execution_count": 23,
          "metadata": {},
          "output_type": "execute_result"
        },
        {
          "data": {
            "image/png": "[encoded data removed]",
            "text/plain": [
              "<Figure size 432x288 with 1 Axes>"
            ]
          },
          "metadata": {
            "needs_background": "light"
          },
          "output_type": "display_data"
        }
      ],
      "source": [
        "from datetime import datetime\n",
        "import matplotlib.pyplot as plt\n",
        "import numpy as np\n",
        "\n",
        "def soma_tempo(n):\n",
        "    dt_inicio = datetime.now()\n",
        "    dt_fim = 0\n",
        "    acumulador = 0\n",
        "    for i in range(1, n+1):\n",
        "        acumulador += i\n",
        "    dt_fim = datetime.now()\n",
        "    return { 'valor': n, 'tempo': (dt_fim - dt_inicio).total_seconds() }\n",
        "\n",
        "plt.title('Tempo x Valor')\n",
        "plt.xlabel('Valor')\n",
        "plt.ylabel('Tempo')\n",
        "\n",
        "valores = []\n",
        "for valor in range(0, 100000, 100):\n",
        "    valores.append(soma_tempo(valor))\n",
        "\n",
        "plt.plot(\n",
        "    np.array([item['valor'] for item in valores]),\n",
        "    np.array([item['tempo'] for item in valores]),\n",
        ")"
      ]
    },
    {
      "cell_type": "code",
      "execution_count": 2,
      "metadata": {
        "colab": {
          "base_uri": "https://localhost:8080/",
          "height": 313
        },
        "id": "3d5caNqXtWic",
        "outputId": "c7f9b68a-9675-427f-976a-b82b2c624401"
      },
      "outputs": [
        {
          "name": "stdout",
          "output_type": "stream",
          "text": [
            "0\n",
            "55\n",
            "210\n",
            "465\n",
            "820\n",
            "1275\n",
            "1830\n",
            "2485\n",
            "3240\n",
            "4095\n",
            "5050\n",
            "6105\n",
            "7260\n",
            "8515\n",
            "9870\n",
            "11325\n",
            "12880\n",
            "14535\n",
            "16290\n",
            "18145\n",
            "20100\n",
            "22155\n",
            "24310\n",
            "26565\n",
            "28920\n",
            "31375\n",
            "33930\n",
            "36585\n",
            "39340\n",
            "42195\n",
            "45150\n",
            "48205\n",
            "51360\n",
            "54615\n",
            "57970\n",
            "61425\n",
            "64980\n",
            "68635\n",
            "72390\n",
            "76245\n",
            "80200\n",
            "84255\n",
            "88410\n",
            "92665\n",
            "97020\n",
            "101475\n",
            "106030\n",
            "110685\n",
            "115440\n",
            "120295\n",
            "125250\n",
            "130305\n",
            "135460\n",
            "140715\n",
            "146070\n",
            "151525\n",
            "157080\n",
            "162735\n",
            "168490\n",
            "174345\n",
            "180300\n",
            "186355\n",
            "192510\n",
            "198765\n",
            "205120\n",
            "211575\n",
            "218130\n",
            "224785\n",
            "231540\n",
            "238395\n",
            "245350\n",
            "252405\n",
            "259560\n",
            "266815\n",
            "274170\n",
            "281625\n",
            "289180\n",
            "296835\n",
            "304590\n",
            "312445\n",
            "320400\n",
            "328455\n",
            "336610\n",
            "344865\n",
            "353220\n",
            "361675\n",
            "370230\n",
            "378885\n",
            "387640\n",
            "396495\n",
            "405450\n",
            "414505\n",
            "423660\n",
            "432915\n",
            "442270\n",
            "451725\n",
            "461280\n",
            "470935\n",
            "480690\n",
            "490545\n"
          ]
        },
        {
          "data": {
            "text/plain": [
              "[<matplotlib.lines.Line2D at 0x292dfcf7ac0>]"
            ]
          },
          "execution_count": 2,
          "metadata": {},
          "output_type": "execute_result"
        },
        {
          "data": {
            "image/png": "[encoded data removed]",
            "text/plain": [
              "<Figure size 432x288 with 1 Axes>"
            ]
          },
          "metadata": {
            "needs_background": "light"
          },
          "output_type": "display_data"
        }
      ],
      "source": [
        "from datetime import datetime\n",
        "import matplotlib.pyplot as plt\n",
        "import numpy as np\n",
        "\n",
        "def soma_tempo(n):\n",
        "    dt_inicio = datetime.now()\n",
        "    dt_fim = 0\n",
        "    contador = 0\n",
        "    acumulador=0\n",
        "    for i in range(1, n+1):\n",
        "        acumulador += i\n",
        "        contador += 1\n",
        "    dt_fim = datetime.now()\n",
        "    print(contador)\n",
        "    return { 'valor': n, 'tempo': (dt_fim - dt_inicio).total_seconds() }\n",
        "\n",
        "plt.title('Tempo x Valor')\n",
        "plt.xlabel('Valor')\n",
        "plt.ylabel('Tempo')\n",
        "\n",
        "\n",
        "valores = []\n",
        "for valor in range(0, 1000, 10):\n",
        "    valores.append(soma_tempo(valor))\n"
      ]
    }
  ],
  "metadata": {
    "colab": {
      "name": "Untitled12.ipynb",
      "provenance": []
    },
    "kernelspec": {
      "display_name": "Python 3",
      "name": "python3"
    },
    "language_info": {
      "codemirror_mode": {
        "name": "ipython",
        "version": 3
      },
      "file_extension": ".py",
      "mimetype": "text/x-python",
      "name": "python",
      "nbconvert_exporter": "python",
      "pygments_lexer": "ipython3",
      "version": "3.10.1"
    }
  },
  "nbformat": 4,
  "nbformat_minor": 0
}
