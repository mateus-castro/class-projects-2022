{
 "cells": [
  {
   "cell_type": "code",
   "execution_count": 2,
   "id": "658c03ce",
   "metadata": {},
   "outputs": [
    {
     "name": "stdout",
     "output_type": "stream",
     "text": [
      "mateus\n",
      "castroo\n",
      "meu nome é mateus castrooooooo\n",
      "madicionado\n",
      "30\n"
     ]
    }
   ],
   "source": [
    "# d='teste'\n",
    "# print(f\"id do objeto d -> {id(d)}\")\n",
    "# print(f\"id HEX do objeto d -> {hex(id(d))}\")\n",
    "# d=213\n",
    "# print(f\"id do objeto d depois de ser sobrescrito -> {id(d)}\")\n",
    "# l=d\n",
    "# print(f\"id do objeto l depois de ter o objeto d atribuido à ele -> {id(l)}\")\n",
    "\n",
    "testString=\"meu nome é mateus castrooooooo\"\n",
    "concating=\"adicionado\"\n",
    "\n",
    "print(testString [11:17]) # pega a string dos caracteres 11 ao 17\n",
    "print(testString [18:25])\n",
    "print(testString[::]) # se refere à string inteira\n",
    "print(testString[6:10:8] + concating) # concatenar string\n",
    "print(len(testString)) # tamanho da string"
   ]
  },
  {
   "cell_type": "code",
   "execution_count": null,
   "id": "d2cbc53f",
   "metadata": {},
   "outputs": [],
   "source": []
  },
  {
   "cell_type": "code",
   "execution_count": null,
   "id": "df461c51",
   "metadata": {},
   "outputs": [],
   "source": []
  }
 ],
 "metadata": {
  "kernelspec": {
   "display_name": "Python 3 (ipykernel)",
   "language": "python",
   "name": "python3"
  },
  "language_info": {
   "codemirror_mode": {
    "name": "ipython",
    "version": 3
   },
   "file_extension": ".py",
   "mimetype": "text/x-python",
   "name": "python",
   "nbconvert_exporter": "python",
   "pygments_lexer": "ipython3",
   "version": "3.9.7"
  }
 },
 "nbformat": 4,
 "nbformat_minor": 5
}
